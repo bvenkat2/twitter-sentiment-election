{
  "cells": [
    {
      "metadata": {
        "slideshow": {
          "slide_type": "-"
        }
      },
      "cell_type": "markdown",
      "source": "# Scraping Twitter to do Sentiment Analysis on tweets about Presidential Candidates"
    },
    {
      "metadata": {},
      "cell_type": "markdown",
      "source": "## Basic Setup\nThe first thing we need to do is install the library we are going to use to pull tweets from Twitter. The python-twitter library provides a python wrapper for the Twitter provided API. We then need to go through and generate/provide our consumer api key/secret and our access token key/secret."
    },
    {
      "metadata": {
        "trusted": true,
        "scrolled": true
      },
      "cell_type": "code",
      "source": "!pip install python-twitter",
      "execution_count": 14,
      "outputs": [
        {
          "output_type": "stream",
          "text": "Requirement already satisfied: python-twitter in /home/nbuser/anaconda3_501/lib/python3.6/site-packages (3.5)\nRequirement already satisfied: requests-oauthlib in /home/nbuser/anaconda3_501/lib/python3.6/site-packages (from python-twitter) (1.2.0)\nRequirement already satisfied: future in /home/nbuser/anaconda3_501/lib/python3.6/site-packages (from python-twitter) (0.16.0)\nRequirement already satisfied: requests in /home/nbuser/anaconda3_501/lib/python3.6/site-packages (from python-twitter) (2.22.0)\nRequirement already satisfied: oauthlib>=3.0.0 in /home/nbuser/anaconda3_501/lib/python3.6/site-packages (from requests-oauthlib->python-twitter) (3.0.2)\nRequirement already satisfied: idna<2.9,>=2.5 in /home/nbuser/anaconda3_501/lib/python3.6/site-packages (from requests->python-twitter) (2.7)\nRequirement already satisfied: urllib3!=1.25.0,!=1.25.1,<1.26,>=1.21.1 in /home/nbuser/anaconda3_501/lib/python3.6/site-packages (from requests->python-twitter) (1.23)\nRequirement already satisfied: certifi>=2017.4.17 in /home/nbuser/anaconda3_501/lib/python3.6/site-packages (from requests->python-twitter) (2018.10.15)\nRequirement already satisfied: chardet<3.1.0,>=3.0.2 in /home/nbuser/anaconda3_501/lib/python3.6/site-packages (from requests->python-twitter) (3.0.4)\n",
          "name": "stdout"
        }
      ]
    },
    {
      "metadata": {
        "trusted": true
      },
      "cell_type": "code",
      "source": "consumer_api_key = 'ntnvnX1bwZwKcGP8YcvZbFLR7'\nconsumer_api_secret = 'Y3bcbx0UohgcFX7I7wSTfMvaPvVfsvS2hIfQaF10G7b1n4F97o'\naccess_token = '2923143401-JvUEJcWNQBsvJByMHN0X6tTpEpfWeiDfufzR5Vq'\naccess_token_secret = 'MUY7yr4M4oIi3rMjjG8f38z3hlDyqxFoXoMu8NxpSfTEL'",
      "execution_count": 2,
      "outputs": []
    },
    {
      "metadata": {
        "trusted": true
      },
      "cell_type": "code",
      "source": "import twitter\n\napi = twitter.Api(consumer_key=consumer_api_key,\n                  consumer_secret=consumer_api_secret,\n                  access_token_key=access_token,\n                  access_token_secret=access_token_secret)",
      "execution_count": 3,
      "outputs": []
    },
    {
      "metadata": {
        "trusted": true
      },
      "cell_type": "code",
      "source": "listCandidates = ['Donald Trump', 'Joe Biden', 'Kamala Harris', 'Bernie Sanders', 'Beto O\\' Rourke', 'Andrew Yang', 'Elizabeth Warren']",
      "execution_count": 34,
      "outputs": []
    },
    {
      "metadata": {
        "trusted": true
      },
      "cell_type": "code",
      "source": "candidateTweets = [api.GetSearch(term = candName, count = 100) for candName in listCandidates]",
      "execution_count": 36,
      "outputs": []
    },
    {
      "metadata": {
        "trusted": true
      },
      "cell_type": "code",
      "source": "import json\nfor single_candidate_tweets in candidateTweets:\n    for tweet in single_candidate_tweets:\n        print('\\n')\n        print(json.dumps(tweet._json, sort_keys=True, indent=4))",
      "execution_count": 50,
      "outputs": []
    },
    {
      "metadata": {
        "trusted": true
      },
      "cell_type": "code",
      "source": "tweet_text_list = [[tweet._json['text'] for tweet in single_candidate_tweets] for single_candidate_tweets in candidateTweets]",
      "execution_count": 39,
      "outputs": []
    },
    {
      "metadata": {
        "trusted": true
      },
      "cell_type": "code",
      "source": "!pip install -U textblob",
      "execution_count": 26,
      "outputs": [
        {
          "output_type": "stream",
          "text": "Collecting textblob\n\u001b[?25l  Downloading https://files.pythonhosted.org/packages/60/f0/1d9bfcc8ee6b83472ec571406bd0dd51c0e6330ff1a51b2d29861d389e85/textblob-0.15.3-py2.py3-none-any.whl (636kB)\n\u001b[K     |████████████████████████████████| 645kB 2.3MB/s eta 0:00:01\n\u001b[?25hRequirement already satisfied, skipping upgrade: nltk>=3.1 in /home/nbuser/anaconda3_501/lib/python3.6/site-packages (from textblob) (3.3)\nRequirement already satisfied, skipping upgrade: six in /home/nbuser/anaconda3_501/lib/python3.6/site-packages (from nltk>=3.1->textblob) (1.11.0)\n\u001b[31mERROR: scrubadub 1.2.0 has requirement textblob==0.10.0, but you'll have textblob 0.15.3 which is incompatible.\u001b[0m\nInstalling collected packages: textblob\n  Found existing installation: textblob 0.10.0\n    Uninstalling textblob-0.10.0:\n      Successfully uninstalled textblob-0.10.0\nSuccessfully installed textblob-0.15.3\n",
          "name": "stdout"
        }
      ]
    },
    {
      "metadata": {
        "trusted": true
      },
      "cell_type": "code",
      "source": "def getScore(polarity, subjectivity):\n    return polarity * (1-subjectivity)",
      "execution_count": 31,
      "outputs": []
    },
    {
      "metadata": {
        "trusted": true
      },
      "cell_type": "code",
      "source": "from textblob import TextBlob\ncandidate_index = 0\nfor single_candidate_tweet_text_list in tweet_text_list:\n    tot_score = 0\n    for text in single_candidate_tweet_text_list:\n        blob = TextBlob(text)\n        sentiment = blob.sentiment\n        tot_score += getScore(sentiment.polarity, sentiment.subjectivity)\n    print(listCandidates[candidate_index] + ' Average Sentiment Score: ', tot_score/len(single_candidate_tweet_text_list) * 1000)\n    candidate_index +=1",
      "execution_count": 52,
      "outputs": [
        {
          "output_type": "stream",
          "text": "Donald Trump Average Sentiment Score:  26.20136187552939\nJoe Biden Average Sentiment Score:  1.055024678604222\nKamala Harris Average Sentiment Score:  12.530604534054213\nBernie Sanders Average Sentiment Score:  -13.15843013822286\nBeto O' Rourke Average Sentiment Score:  -20.561192129629625\nAndrew Yang Average Sentiment Score:  42.95519921696869\nElizabeth Warren Average Sentiment Score:  18.475558740463\n",
          "name": "stdout"
        }
      ]
    },
    {
      "metadata": {
        "trusted": true
      },
      "cell_type": "code",
      "source": "",
      "execution_count": null,
      "outputs": []
    }
  ],
  "metadata": {
    "kernelspec": {
      "name": "python36",
      "display_name": "Python 3.6",
      "language": "python"
    },
    "language_info": {
      "mimetype": "text/x-python",
      "nbconvert_exporter": "python",
      "name": "python",
      "pygments_lexer": "ipython3",
      "version": "3.6.6",
      "file_extension": ".py",
      "codemirror_mode": {
        "version": 3,
        "name": "ipython"
      }
    }
  },
  "nbformat": 4,
  "nbformat_minor": 2
}